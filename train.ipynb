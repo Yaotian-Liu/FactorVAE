{
 "cells": [
  {
   "cell_type": "code",
   "execution_count": null,
   "metadata": {},
   "outputs": [],
   "source": [
    "import torch\n",
    "import torch.nn as nn\n",
    "\n",
    "import numpy as np\n",
    "\n",
    "from factorVAE.factor_VAE import FactorVAE"
   ]
  },
  {
   "cell_type": "code",
   "execution_count": null,
   "metadata": {},
   "outputs": [],
   "source": [
    "import os\n",
    "\n",
    "os.environ[\"CUDA_VISIBLE_DEVICES\"] = \"7\"\n",
    "\n",
    "device = \"cuda\""
   ]
  },
  {
   "cell_type": "code",
   "execution_count": null,
   "metadata": {},
   "outputs": [],
   "source": [
    "features_dataset = torch.load(\"./dataset/alpha/train/feat.pt\")\n",
    "returns_dataset = torch.load(\"./dataset/alpha/train/ret.pt\")\n",
    "\n",
    "print(f\"Total step: {features_dataset.shape[0]}\")\n",
    "print(f\"Time span: {features_dataset.shape[1]}\")\n",
    "print(f\"Stock size: {features_dataset.shape[2]}\")\n",
    "print(f\"Feature size: {features_dataset.shape[3]}\")"
   ]
  },
  {
   "cell_type": "code",
   "execution_count": null,
   "metadata": {},
   "outputs": [],
   "source": [
    "batch_size = 32\n",
    "characteristic_size = 143\n",
    "stock_size = 100\n",
    "latent_size = 64\n",
    "factor_size = 32\n",
    "time_span = 60\n",
    "gru_input_size = 64\n",
    "hidden_size = 64\n",
    "lr = 1e-5\n",
    "epochs = 100"
   ]
  },
  {
   "cell_type": "code",
   "execution_count": null,
   "metadata": {},
   "outputs": [],
   "source": [
    "from torch.utils.data import TensorDataset, DataLoader\n",
    "\n",
    "def get_dataloader(data, label, device=device, batch_size=batch_size):\n",
    "    data = torch.Tensor(data).to(device)\n",
    "    label = torch.Tensor(label).to(device).long()\n",
    "    ds = TensorDataset(data, label)\n",
    "    dl = DataLoader(ds, batch_size=batch_size, shuffle=True)\n",
    "    return dl"
   ]
  },
  {
   "cell_type": "code",
   "execution_count": null,
   "metadata": {},
   "outputs": [],
   "source": [
    "train_dl = get_dataloader(features_dataset, returns_dataset)"
   ]
  },
  {
   "cell_type": "code",
   "execution_count": null,
   "metadata": {},
   "outputs": [],
   "source": [
    "factor_VAE = FactorVAE(\n",
    "    characteristic_size=characteristic_size,\n",
    "    stock_size=stock_size,\n",
    "    latent_size=latent_size,\n",
    "    factor_size=factor_size,\n",
    "    time_span=time_span,\n",
    "    gru_input_size=gru_input_size,\n",
    "    hidden_size=hidden_size\n",
    ").to(device)"
   ]
  },
  {
   "cell_type": "code",
   "execution_count": null,
   "metadata": {},
   "outputs": [],
   "source": [
    "optimizer = torch.optim.Adam(factor_VAE.parameters(), lr=lr)"
   ]
  },
  {
   "cell_type": "code",
   "execution_count": null,
   "metadata": {},
   "outputs": [],
   "source": [
    "def train_loop(dataloader, model, optimizer):\n",
    "    for batch, (feat, ret) in enumerate(train_dl):\n",
    "        loss = model.run_model(feat, ret)\n",
    "        \n",
    "        optimizer.zero_grad()\n",
    "        loss.backward()\n",
    "        optimizer.step()\n",
    "        \n",
    "        if batch % 10 == 0:\n",
    "            print(f\"batch: {batch}, loss: {loss.item()}\")"
   ]
  },
  {
   "cell_type": "code",
   "execution_count": null,
   "metadata": {},
   "outputs": [],
   "source": [
    "for i in range(epochs):\n",
    "    print(f\"=== Epoch: {i} ===\")\n",
    "    train_loop(train_dl, factor_VAE, optimizer)"
   ]
  },
  {
   "cell_type": "code",
   "execution_count": null,
   "metadata": {},
   "outputs": [],
   "source": [
    "returns_dataset[100]"
   ]
  },
  {
   "cell_type": "code",
   "execution_count": null,
   "metadata": {},
   "outputs": [],
   "source": [
    "result = factor_VAE.prediction(features_dataset[100].unsqueeze(0).to(device))"
   ]
  },
  {
   "cell_type": "code",
   "execution_count": null,
   "metadata": {},
   "outputs": [],
   "source": [
    "result[0]"
   ]
  },
  {
   "cell_type": "code",
   "execution_count": null,
   "metadata": {},
   "outputs": [],
   "source": [
    "from torch.distributions import Normal\n",
    "\n",
    "n = Normal(result[1], result[2])\n",
    "n.sample()\n"
   ]
  }
 ],
 "metadata": {
  "kernelspec": {
   "display_name": "Python 3.8.12 ('torch')",
   "language": "python",
   "name": "python3"
  },
  "language_info": {
   "codemirror_mode": {
    "name": "ipython",
    "version": 3
   },
   "file_extension": ".py",
   "mimetype": "text/x-python",
   "name": "python",
   "nbconvert_exporter": "python",
   "pygments_lexer": "ipython3",
   "version": "3.8.12"
  },
  "orig_nbformat": 4,
  "vscode": {
   "interpreter": {
    "hash": "deff6e117060b4680ad0a91c2cc9b11e790502a6f792302898866baebf8767a2"
   }
  }
 },
 "nbformat": 4,
 "nbformat_minor": 2
}
