{
 "cells": [
  {
   "cell_type": "code",
   "execution_count": null,
   "metadata": {},
   "outputs": [],
   "source": [
    "import torch\n",
    "import torch.nn as nn\n",
    "\n",
    "import numpy as np\n",
    "\n",
    "from factorVAE.factor_VAE import FactorVAE"
   ]
  },
  {
   "cell_type": "code",
   "execution_count": null,
   "metadata": {},
   "outputs": [],
   "source": [
    "features_dataset = torch.load(\"./dataset/basic_feat/features.pt\")\n",
    "returns_dataset = torch.load(\"./dataset/basic_feat/returns.pt\")\n",
    "\n",
    "print(f\"Total step: {features_dataset.shape[0]}\")\n",
    "print(f\"Time span: {features_dataset.shape[1]}\")\n",
    "print(f\"Stock size: {features_dataset.shape[2]}\")\n",
    "print(f\"Feature size: {features_dataset.shape[3]}\")"
   ]
  },
  {
   "cell_type": "code",
   "execution_count": null,
   "metadata": {},
   "outputs": [],
   "source": [
    "batch_size = 128\n",
    "characteristic_size = 5\n",
    "stock_size = 100\n",
    "latent_size = 16\n",
    "factor_size = 8\n",
    "time_span = 60\n",
    "gru_input_size = 8\n",
    "hidden_size = [16, 32, 16]\n",
    "lr = 1e-4\n",
    "epochs = 80"
   ]
  },
  {
   "cell_type": "code",
   "execution_count": null,
   "metadata": {},
   "outputs": [],
   "source": [
    "device = 'cuda' if torch.cuda.is_available() else 'cpu'"
   ]
  },
  {
   "cell_type": "code",
   "execution_count": null,
   "metadata": {},
   "outputs": [],
   "source": [
    "from torch.utils.data import TensorDataset, DataLoader\n",
    "\n",
    "def get_dataloader(data, label, device=device, batch_size=batch_size):\n",
    "    data = torch.Tensor(data).to(device)\n",
    "    label = torch.Tensor(label).to(device).long()\n",
    "    ds = TensorDataset(data, label)\n",
    "    dl = DataLoader(ds, batch_size=batch_size, shuffle=True)\n",
    "    return dl"
   ]
  },
  {
   "cell_type": "code",
   "execution_count": null,
   "metadata": {},
   "outputs": [],
   "source": [
    "train_dl = get_dataloader(features_dataset, returns_dataset)"
   ]
  },
  {
   "cell_type": "code",
   "execution_count": null,
   "metadata": {},
   "outputs": [],
   "source": [
    "factor_VAE = FactorVAE(\n",
    "    characteristic_size=characteristic_size,\n",
    "    stock_size=stock_size,\n",
    "    latent_size=latent_size,\n",
    "    factor_size=factor_size,\n",
    "    time_span=time_span,\n",
    "    gru_input_size=gru_input_size,\n",
    "    hidden_size=hidden_size\n",
    ").to(device)"
   ]
  },
  {
   "cell_type": "code",
   "execution_count": null,
   "metadata": {},
   "outputs": [],
   "source": [
    "optimizer = torch.optim.Adam(factor_VAE.parameters(), lr=lr)"
   ]
  },
  {
   "cell_type": "code",
   "execution_count": null,
   "metadata": {},
   "outputs": [],
   "source": [
    "def train_loop(dataloader, model, optimizer):\n",
    "    for batch, (feat, ret) in enumerate(train_dl):\n",
    "        loss = model.run_model(feat, ret)\n",
    "        \n",
    "        optimizer.zero_grad()\n",
    "        loss.backward()\n",
    "        optimizer.step()\n",
    "        \n",
    "        if batch % 10 == 0:\n",
    "            print(f\"batch: {batch}, loss: {loss.item()}\")"
   ]
  },
  {
   "cell_type": "code",
   "execution_count": null,
   "metadata": {},
   "outputs": [],
   "source": [
    "for i in range(epochs):\n",
    "    print(f\"=== Epoch: {i} ===\")\n",
    "    train_loop(train_dl, factor_VAE, optimizer)"
   ]
  },
  {
   "cell_type": "code",
   "execution_count": null,
   "metadata": {},
   "outputs": [],
   "source": [
    "returns_dataset[100]"
   ]
  },
  {
   "cell_type": "code",
   "execution_count": null,
   "metadata": {},
   "outputs": [],
   "source": [
    "result = factor_VAE.prediction(features_dataset[100].unsqueeze(0).to(device))"
   ]
  },
  {
   "cell_type": "code",
   "execution_count": null,
   "metadata": {},
   "outputs": [],
   "source": [
    "result[1]\n"
   ]
  },
  {
   "cell_type": "code",
   "execution_count": null,
   "metadata": {},
   "outputs": [],
   "source": [
    "result[2]"
   ]
  },
  {
   "cell_type": "code",
   "execution_count": null,
   "metadata": {},
   "outputs": [],
   "source": [
    "from torch.distributions import Normal\n",
    "\n",
    "n = Normal(result[1], result[2])\n",
    "n.sample()\n"
   ]
  }
 ],
 "metadata": {
  "kernelspec": {
   "display_name": "Python 3.8.13 ('qlib')",
   "language": "python",
   "name": "python3"
  },
  "language_info": {
   "codemirror_mode": {
    "name": "ipython",
    "version": 3
   },
   "file_extension": ".py",
   "mimetype": "text/x-python",
   "name": "python",
   "nbconvert_exporter": "python",
   "pygments_lexer": "ipython3",
   "version": "3.8.13"
  },
  "orig_nbformat": 4,
  "vscode": {
   "interpreter": {
    "hash": "5975ef26faabaf7fbe98d68b8b1cd6d8bd6d5eff04b7d51dfc2a146d09d17e60"
   }
  }
 },
 "nbformat": 4,
 "nbformat_minor": 2
}
