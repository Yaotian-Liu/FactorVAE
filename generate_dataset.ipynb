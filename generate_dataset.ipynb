{
 "cells": [
  {
   "cell_type": "code",
   "execution_count": null,
   "metadata": {},
   "outputs": [],
   "source": [
    "import pandas as pd\n",
    "import numpy as np\n",
    "import torch\n",
    "import os\n"
   ]
  },
  {
   "cell_type": "code",
   "execution_count": null,
   "metadata": {},
   "outputs": [],
   "source": [
    "# tic_list = [tic[:-4] for tic in os.listdir(\"./CSI\")]\n",
    "# for i in range(len(tic_list)):\n",
    "#     data = pd.read_csv(f\"./CSI/{tic_list[i]}.csv\", index_col=0)\n",
    "#     os.remove(f\"./CSI/{tic_list[i]}.csv\")\n",
    "#     if tic_list[i][-2:] == \"SS\":\n",
    "#         mark = \"SH\"\n",
    "#     else:\n",
    "#         mark = \"SZ\"\n",
    "#     tic_list[i] = mark + tic_list[i][:6]\n",
    "#     data.to_csv(f\"./CSI/{tic_list[i]}.csv\")\n",
    "   "
   ]
  },
  {
   "cell_type": "code",
   "execution_count": null,
   "metadata": {},
   "outputs": [],
   "source": [
    "import qlib\n",
    "from qlib.config import REG_CN\n",
    "from qlib.contrib.data.handler import Alpha158\n",
    "\n",
    "qlib.init(provider_uri=\"~/.qlib/CSI_data\", region=REG_CN)\n",
    "data_handler_config = {\n",
    "    \"start_time\": \"2010-01-01\",\n",
    "    \"end_time\": \"2022-06-01\",\n",
    "    \"instruments\": \"all\",\n",
    "}\n",
    "h = Alpha158(**data_handler_config)\n",
    "data_df = h.fetch()\n"
   ]
  },
  {
   "cell_type": "code",
   "execution_count": null,
   "metadata": {},
   "outputs": [],
   "source": [
    "feature_df = data_df.reset_index().dropna(axis=1, how=\"any\").rename(\n",
    "    columns={\"datetime\": \"date\", \"instrument\": \"tic\"}\n",
    ")\n",
    "feature_df\n"
   ]
  },
  {
   "cell_type": "code",
   "execution_count": null,
   "metadata": {},
   "outputs": [],
   "source": [
    "for k,v in feature_df.isna().sum().items():\n",
    "    if v > 0:\n",
    "        print(k, v)"
   ]
  },
  {
   "cell_type": "code",
   "execution_count": null,
   "metadata": {},
   "outputs": [],
   "source": [
    "drop_col = [\n",
    "    \"ROC10\",\n",
    "    \"ROC20\",\n",
    "    \"ROC30\",\n",
    "    \"ROC60\",\n",
    "    \"RSQR5\",\n",
    "    \"RSQR10\",\n",
    "    \"RSQR20\",\n",
    "    \"RSQR30\",\n",
    "    \"RSQR60\",\n",
    "    \"CORR5\",\n",
    "    \"CORR10\",\n",
    "    \"CORR20\",\n",
    "    \"CORR30\",\n",
    "    \"CORR60\",\n",
    "    \"CORD10\",\n",
    "    \"CORD20\",\n",
    "    \"CORD30\",\n",
    "    \"CORD60\"\n",
    "]\n"
   ]
  },
  {
   "cell_type": "code",
   "execution_count": null,
   "metadata": {},
   "outputs": [],
   "source": [
    "feature_df = feature_df.drop(columns=drop_col)"
   ]
  },
  {
   "cell_type": "code",
   "execution_count": null,
   "metadata": {},
   "outputs": [],
   "source": [
    "feature_df = feature_df.dropna()"
   ]
  },
  {
   "cell_type": "code",
   "execution_count": null,
   "metadata": {},
   "outputs": [],
   "source": [
    "for tic in feature_df['tic'].unique():\n",
    "    print(len(feature_df[feature_df['tic'] == tic]))"
   ]
  },
  {
   "cell_type": "code",
   "execution_count": null,
   "metadata": {},
   "outputs": [],
   "source": [
    "alpha158 = feature_df.columns[2:].to_list() # alpha158\n",
    "basic_feature = [\"open\", \"close\", \"high\", \"low\", \"volume\"]\n",
    "target = \"return+5\""
   ]
  },
  {
   "cell_type": "code",
   "execution_count": null,
   "metadata": {},
   "outputs": [],
   "source": [
    "tic_df_list = []\n",
    "for tic_path in os.listdir(\"./CSI/\"):\n",
    "    tic_df = pd.read_csv(f\"./CSI/{tic_path}\", index_col=0)[[\"date\", \"open\", \"close\", \"high\", \"low\", \"volume\"]]\n",
    "    tic_df[\"tic\"] = tic_path[:8]\n",
    "    tic_df[\"return+5\"] = tic_df.close.diff(5).shift(-5) / tic_df.close\n",
    "    tic_df_list.append(tic_df)\n",
    "\n",
    "tic_target_df = pd.concat(tic_df_list).sort_values(by=\"date\").dropna()\n",
    "tic_target_df.date = pd.DatetimeIndex(tic_target_df.date)\n"
   ]
  },
  {
   "cell_type": "code",
   "execution_count": null,
   "metadata": {},
   "outputs": [],
   "source": [
    "tic_target_df"
   ]
  },
  {
   "cell_type": "code",
   "execution_count": null,
   "metadata": {},
   "outputs": [],
   "source": [
    "dataset_df = feature_df.merge(tic_target_df, how='inner', on=[\"date\", \"tic\"])\n",
    "dataset_df"
   ]
  },
  {
   "cell_type": "code",
   "execution_count": null,
   "metadata": {},
   "outputs": [],
   "source": [
    "time_span = 60"
   ]
  },
  {
   "cell_type": "code",
   "execution_count": null,
   "metadata": {},
   "outputs": [],
   "source": [
    "dataset_feat = []\n",
    "dataset_ret = []\n",
    "\n",
    "for tic in dataset_df.tic.unique():\n",
    "    df = dataset_df[dataset_df.tic == tic]\n",
    "    feat = df[basic_feature].to_numpy()\n",
    "    ret = df[target].to_numpy()\n",
    "    stock_feat = []\n",
    "    stock_ret = []\n",
    "    for i in range(time_span, feat.shape[0]):\n",
    "        stock_feat.append(feat[i-time_span : i])\n",
    "        stock_ret.append(ret[i])\n",
    "    stock_feat = np.array(stock_feat)\n",
    "    stock_ret = np.array(stock_ret)\n",
    "\n",
    "    dataset_feat.append(stock_feat)\n",
    "    dataset_ret.append(stock_ret)\n",
    "\n",
    "dataset_feat = np.array(dataset_feat)\n",
    "dataset_ret = np.array(dataset_ret)\n",
    "        \n"
   ]
  },
  {
   "cell_type": "code",
   "execution_count": null,
   "metadata": {},
   "outputs": [],
   "source": [
    "dataset_ret.shape"
   ]
  },
  {
   "cell_type": "code",
   "execution_count": null,
   "metadata": {},
   "outputs": [],
   "source": [
    "dataset_ret = dataset_ret.transpose((1, 0))"
   ]
  },
  {
   "cell_type": "code",
   "execution_count": null,
   "metadata": {},
   "outputs": [],
   "source": [
    "dataset_feat = dataset_feat.transpose((1, 2, 0, 3))"
   ]
  },
  {
   "cell_type": "code",
   "execution_count": null,
   "metadata": {},
   "outputs": [],
   "source": [
    "import torch\n",
    "\n",
    "dataset_ret_tensor = torch.tensor(dataset_ret, dtype=torch.float)\n",
    "dataset_feat_tensor = torch.tensor(dataset_feat, dtype=torch.float)"
   ]
  },
  {
   "cell_type": "code",
   "execution_count": null,
   "metadata": {},
   "outputs": [],
   "source": [
    "torch.save(dataset_ret_tensor, \"./dataset/basic_feat/returns.pt\")\n",
    "torch.save(dataset_feat_tensor, \"./dataset/basic_feat/features.pt\")"
   ]
  },
  {
   "cell_type": "code",
   "execution_count": null,
   "metadata": {},
   "outputs": [],
   "source": []
  }
 ],
 "metadata": {
  "kernelspec": {
   "display_name": "Python 3.8.13 ('qlib')",
   "language": "python",
   "name": "python3"
  },
  "language_info": {
   "codemirror_mode": {
    "name": "ipython",
    "version": 3
   },
   "file_extension": ".py",
   "mimetype": "text/x-python",
   "name": "python",
   "nbconvert_exporter": "python",
   "pygments_lexer": "ipython3",
   "version": "3.8.13"
  },
  "orig_nbformat": 4,
  "vscode": {
   "interpreter": {
    "hash": "5975ef26faabaf7fbe98d68b8b1cd6d8bd6d5eff04b7d51dfc2a146d09d17e60"
   }
  }
 },
 "nbformat": 4,
 "nbformat_minor": 2
}
